{
  "nbformat": 4,
  "nbformat_minor": 0,
  "metadata": {
    "colab": {
      "provenance": []
    },
    "kernelspec": {
      "name": "python3",
      "display_name": "Python 3"
    },
    "language_info": {
      "name": "python"
    }
  },
  "cells": [
    {
      "cell_type": "markdown",
      "source": [
        "Q1. Explain the key features of python that make it a popular choice for programming.\n",
        "\n",
        "A1. Some of the most prominent reasons of popularity of python as a programming language are as follows:\n",
        "1. **Simplicity and Readability**: Python is the least complicated of all the other programming languages and its syntax is beginer friendly which makes it readable and understandable by people from various fields. This is why it is prefered as a programming language.\n",
        "2. **Versatality**: Python is a versatile language and is used in various fields namely data science, software development, website and application development, data analysis and visualisation, gaming etc. This makes it a general purpose and a powerful programming language.\n",
        "3. **Large standard library support**: Python has a huge community support and a large network of precompiled codes called libraries, that are always available at the disposition of the coders. This makes python a beginer  friendly programmiing language.\n",
        "4. Compilation and Interpretation: These steps takes place after the execution of a python code. The efficiency of the compilation and the interpretation process of python is fairly simple and helps in the debugging of the code in an easy manner."
      ],
      "metadata": {
        "id": "ghh1HmWaV3JX"
      }
    },
    {
      "cell_type": "markdown",
      "source": [
        "Q2. Describe the role of predefined keywords in python and provide examples of how they are used in a program.\n",
        "\n",
        "A2.Predefined keywords are reserved words that have been designed to perform specific functions and have special meanings in a programming language. They cannot be used as identifiers in a code i.e. variable names, function names. etc. The predefined keywords present in python are listed below."
      ],
      "metadata": {
        "id": "Gy_M2N2KaXW7"
      }
    },
    {
      "cell_type": "code",
      "source": [
        "help(\"keywords\")"
      ],
      "metadata": {
        "colab": {
          "base_uri": "https://localhost:8080/"
        },
        "id": "cSRFw1uzdJEm",
        "outputId": "3ead8ed7-bf62-4544-c38b-b593f6c6400f"
      },
      "execution_count": null,
      "outputs": [
        {
          "output_type": "stream",
          "name": "stdout",
          "text": [
            "\n",
            "Here is a list of the Python keywords.  Enter any keyword to get more help.\n",
            "\n",
            "False               class               from                or\n",
            "None                continue            global              pass\n",
            "True                def                 if                  raise\n",
            "and                 del                 import              return\n",
            "as                  elif                in                  try\n",
            "assert              else                is                  while\n",
            "async               except              lambda              with\n",
            "await               finally             nonlocal            yield\n",
            "break               for                 not                 \n",
            "\n"
          ]
        }
      ]
    },
    {
      "cell_type": "code",
      "source": [
        "# Eg. if and else keywords are used for conditional statements\n",
        "if 5>2:\n",
        "  print(\"True\")\n",
        "else:\n",
        "  print(\"False\")"
      ],
      "metadata": {
        "colab": {
          "base_uri": "https://localhost:8080/"
        },
        "id": "nIDDEQx_ds-i",
        "outputId": "c0169783-b0f5-4163-cc15-e23e3fd5e9c6"
      },
      "execution_count": null,
      "outputs": [
        {
          "output_type": "stream",
          "name": "stdout",
          "text": [
            "True\n"
          ]
        }
      ]
    },
    {
      "cell_type": "code",
      "source": [
        "# for and while keywords are used ofr iteration\n",
        "for x in range(0,10):\n",
        "  print(x)"
      ],
      "metadata": {
        "colab": {
          "base_uri": "https://localhost:8080/"
        },
        "id": "ke25davLerBs",
        "outputId": "41019f60-7566-4b2f-e360-798cf40140f4"
      },
      "execution_count": null,
      "outputs": [
        {
          "output_type": "stream",
          "name": "stdout",
          "text": [
            "0\n",
            "1\n",
            "2\n",
            "3\n",
            "4\n",
            "5\n",
            "6\n",
            "7\n",
            "8\n",
            "9\n"
          ]
        }
      ]
    },
    {
      "cell_type": "code",
      "source": [
        "x=10\n",
        "while x>0:\n",
        "  print(x)\n",
        "  x=x-1"
      ],
      "metadata": {
        "colab": {
          "base_uri": "https://localhost:8080/"
        },
        "id": "xv5srHXTfTxz",
        "outputId": "0781b65c-bc5d-4e90-9b9c-481a38d0dcc4"
      },
      "execution_count": null,
      "outputs": [
        {
          "output_type": "stream",
          "name": "stdout",
          "text": [
            "10\n",
            "9\n",
            "8\n",
            "7\n",
            "6\n",
            "5\n",
            "4\n",
            "3\n",
            "2\n",
            "1\n"
          ]
        }
      ]
    },
    {
      "cell_type": "markdown",
      "source": [
        "Q3. Compare and contrast mutable and immutable objects in python with examples.\n",
        "\n",
        "A1. Mutable objects in python are changable. They can be accessed and modified as per the requirement of the coder. On the other hand, immutable objects remain fixed and they cannot be modified by the coder once defined initially. Mutability affects how objects are stored and manipulated in memory. It impacts performance, memory usage, and concurrency in Python programs.\n",
        " Examples of mutable objects are: Lists, Dictionaries.\n",
        " Examples of Immutable objects are: Tuples, strings."
      ],
      "metadata": {
        "id": "z3hqPrDVfvH0"
      }
    },
    {
      "cell_type": "code",
      "source": [
        "#Eg of mutable object: List\n",
        "lis=[1,3,5,6,\"Apple\"]\n",
        "print(\"The value before modifying\", lis)\n",
        "lis[-1]= \"Banana\"\n",
        "print(\"The value after modifying\", lis)"
      ],
      "metadata": {
        "colab": {
          "base_uri": "https://localhost:8080/"
        },
        "id": "QJBAwRQ5hYdp",
        "outputId": "cfd62425-80e1-49af-a5cf-be6d36163204"
      },
      "execution_count": null,
      "outputs": [
        {
          "output_type": "stream",
          "name": "stdout",
          "text": [
            "The value before modifying [1, 3, 5, 6, 'Apple']\n",
            "The value after modifying [1, 3, 5, 6, 'Banana']\n"
          ]
        }
      ]
    },
    {
      "cell_type": "code",
      "source": [
        "# Eg of immutable object: string\n",
        "str=\"Pwskills\"\n",
        "str[2]"
      ],
      "metadata": {
        "colab": {
          "base_uri": "https://localhost:8080/",
          "height": 35
        },
        "id": "KbJYCxWJh-K9",
        "outputId": "0032d511-f405-4b4a-efc6-da000875ec6a"
      },
      "execution_count": null,
      "outputs": [
        {
          "output_type": "execute_result",
          "data": {
            "text/plain": [
              "'s'"
            ],
            "application/vnd.google.colaboratory.intrinsic+json": {
              "type": "string"
            }
          },
          "metadata": {},
          "execution_count": 8
        }
      ]
    },
    {
      "cell_type": "code",
      "source": [
        "str[2]= \"k\""
      ],
      "metadata": {
        "colab": {
          "base_uri": "https://localhost:8080/",
          "height": 141
        },
        "id": "9grsEBKSi4YQ",
        "outputId": "2f653c3c-8ed8-4082-fb10-f37403d5b2db"
      },
      "execution_count": null,
      "outputs": [
        {
          "output_type": "error",
          "ename": "TypeError",
          "evalue": "'str' object does not support item assignment",
          "traceback": [
            "\u001b[0;31m---------------------------------------------------------------------------\u001b[0m",
            "\u001b[0;31mTypeError\u001b[0m                                 Traceback (most recent call last)",
            "\u001b[0;32m<ipython-input-9-26d52c9f42ef>\u001b[0m in \u001b[0;36m<cell line: 1>\u001b[0;34m()\u001b[0m\n\u001b[0;32m----> 1\u001b[0;31m \u001b[0mstr\u001b[0m\u001b[0;34m[\u001b[0m\u001b[0;36m2\u001b[0m\u001b[0;34m]\u001b[0m\u001b[0;34m=\u001b[0m \u001b[0;34m\"k\"\u001b[0m\u001b[0;34m\u001b[0m\u001b[0;34m\u001b[0m\u001b[0m\n\u001b[0m",
            "\u001b[0;31mTypeError\u001b[0m: 'str' object does not support item assignment"
          ]
        }
      ]
    },
    {
      "cell_type": "markdown",
      "source": [
        "Q4. Discuss the different types of operators in python and provide examples of how they are used.\n",
        "\n",
        "A4. Operators are symbols that perform various kind of operations on values and variable in python. There are various types of operators.\n",
        "\n",
        " 1. **Arithmetical operators**: They are used to perform basic mathematical operations like addition, subtraction, multiplication etc. \"+\"(addition),\"-\"(subtraction),\"*\"(multiplication),\"/\"(division),\"%\"(modulus),\"//\"(floor division),\"**\"(exponent)\n",
        " 2. **Comparisn Operators**: These operators are usedto compare two values and variables and return a boolean value. They are > (greater than),< (less than),>= (greater than equal to),<= (less than equal to),== (equal to),!= (not equal to).\n",
        " 3. **Logical operators**: They are used for combining two or more conditional statements. They are \"and\", \"or\" and \"not\". It returns a boolean value.\n",
        " 4. **Bitwise operators**: They are used to perform bitwise operations on integers. It first converts the integers into binary value and then performs the operations bitwise, as the name suggets. It returns a decimal value. They are bitwise and '&', bitwise or '|', bitwise xor '^', bitwise not '~', bitwise left shift '<<' and bitwise right shift '>>'.\n",
        " 5. **Assignment operators**: They are used to assign a value to a particular memory location. They are =, +=.-= etc.\n",
        " 6. **Membership operators**: This operator checks the presence of a specific value or variable in a given sequence like in a list or tuple. It returns a boolean value. They are 'in' and 'not in'.\n",
        " 7. **Identity operators**: This kind of operators is used to determine the presence of a value in a particular memory location. They are is and is not. It returns a boolean value.\n"
      ],
      "metadata": {
        "id": "_t-wCRs8jWVv"
      }
    },
    {
      "cell_type": "code",
      "source": [
        "#arithmetical operators.\n",
        "a,b=5,7\n",
        "x=a+b-4*10\n",
        "print(x)"
      ],
      "metadata": {
        "colab": {
          "base_uri": "https://localhost:8080/"
        },
        "id": "8rKP93RKSDDG",
        "outputId": "1b9287fb-88db-46dc-c630-5a04a35e321b"
      },
      "execution_count": null,
      "outputs": [
        {
          "output_type": "stream",
          "name": "stdout",
          "text": [
            "-28\n"
          ]
        }
      ]
    },
    {
      "cell_type": "code",
      "source": [
        "#comparisn operators\n",
        "a,b=5,7\n",
        "if(a>b):\n",
        "  print(\"A is greater than B\")\n",
        "else:\n",
        "  print(\"A is less than B\")"
      ],
      "metadata": {
        "colab": {
          "base_uri": "https://localhost:8080/"
        },
        "id": "xqkB5pO6SuY2",
        "outputId": "1b6744a6-dfcf-4be9-aa24-1b301bb3cee8"
      },
      "execution_count": null,
      "outputs": [
        {
          "output_type": "stream",
          "name": "stdout",
          "text": [
            "A is less than B\n"
          ]
        }
      ]
    },
    {
      "cell_type": "code",
      "source": [
        "#logical operators\n",
        "a,b=5,7\n",
        "if (a>0) and (b>0):\n",
        "  print(\"Both the numbers are positive\")"
      ],
      "metadata": {
        "colab": {
          "base_uri": "https://localhost:8080/"
        },
        "id": "kAchNteGTYtd",
        "outputId": "c1d14efa-3bd2-4b81-e506-ec525169dbdb"
      },
      "execution_count": null,
      "outputs": [
        {
          "output_type": "stream",
          "name": "stdout",
          "text": [
            "Both the numbers are positive\n"
          ]
        }
      ]
    },
    {
      "cell_type": "code",
      "source": [
        "#bitwise operators\n",
        "a,b=5,7\n",
        "c=a&b\n",
        "print (\"Result for bitwise and operation: \", c)"
      ],
      "metadata": {
        "colab": {
          "base_uri": "https://localhost:8080/"
        },
        "id": "KNo-vQixTbhJ",
        "outputId": "e3da24a5-e8c0-4cf5-a0c8-7981e54ad842"
      },
      "execution_count": null,
      "outputs": [
        {
          "output_type": "stream",
          "name": "stdout",
          "text": [
            "Result for bitwise and operation:  5\n"
          ]
        }
      ]
    },
    {
      "cell_type": "code",
      "source": [
        "#assignment operator\n",
        "a,b=5,7\n",
        "print(\"The value of a is: \",a)\n",
        "print(\"The value of b is: \",b)\n",
        "a+=1\n",
        "b+=5\n",
        "print(\"The incremented value of a is: \",a)\n",
        "print(\"The incremented value of b is: \",b)"
      ],
      "metadata": {
        "colab": {
          "base_uri": "https://localhost:8080/"
        },
        "id": "ySVp-8lzUE27",
        "outputId": "adfd0484-a1d8-466d-bc09-1760f93317b9"
      },
      "execution_count": null,
      "outputs": [
        {
          "output_type": "stream",
          "name": "stdout",
          "text": [
            "The value of a is:  5\n",
            "The value of b is:  7\n",
            "The incremented value of a is:  6\n",
            "The incremented value of b is:  12\n"
          ]
        }
      ]
    },
    {
      "cell_type": "code",
      "source": [
        "#membership operators\n",
        "lis=[\"Apple\",\"Banana\",\"Tea\",\"Coffee\"]\n",
        "item=input(\"Enter a list item: \")\n",
        "if item in lis:\n",
        "  print(\"Item is present.\")\n",
        "else:\n",
        "  print(\"Item is not present.\")"
      ],
      "metadata": {
        "colab": {
          "base_uri": "https://localhost:8080/"
        },
        "id": "VtLKK9ArUJPJ",
        "outputId": "b12d7d0f-e819-44ae-acc8-0786fe3dd533"
      },
      "execution_count": null,
      "outputs": [
        {
          "output_type": "stream",
          "name": "stdout",
          "text": [
            "Enter a list item: Pineapple\n",
            "Item is not present.\n"
          ]
        }
      ]
    },
    {
      "cell_type": "code",
      "source": [
        "#identity operators\n",
        "x,y,z=10,11,10\n",
        "x is z"
      ],
      "metadata": {
        "colab": {
          "base_uri": "https://localhost:8080/"
        },
        "id": "7GPVCnSDULlH",
        "outputId": "974aafb7-4e3b-4587-d404-367d0331f949"
      },
      "execution_count": null,
      "outputs": [
        {
          "output_type": "execute_result",
          "data": {
            "text/plain": [
              "True"
            ]
          },
          "metadata": {},
          "execution_count": 8
        }
      ]
    },
    {
      "cell_type": "markdown",
      "source": [
        "Q5. Explain the concept of type casting in python with examples\n",
        "\n",
        "A5. Type casting of type conversion is the process of conversion of one data type into other. It is primarily necessary in python since the input() function always returns a string value. Therefore to convert it into the data type of choice, python provides in built functions like int(), float(), list() etc to change it into te required data type.\n",
        "\n",
        "Type casting in python helps in various other functions like data manipulation and arithmetical operations apart from input output operations."
      ],
      "metadata": {
        "id": "KmtNHMhjWkLU"
      }
    },
    {
      "cell_type": "code",
      "source": [
        "#Example of Type casting\n",
        "user_input=input(\"Enter a number: \")\n",
        "type(user_input)"
      ],
      "metadata": {
        "colab": {
          "base_uri": "https://localhost:8080/"
        },
        "id": "uC70e-BoYInB",
        "outputId": "2d07e658-37a0-4527-e309-ee183d33bd18"
      },
      "execution_count": null,
      "outputs": [
        {
          "name": "stdout",
          "output_type": "stream",
          "text": [
            "Enter a number: 6\n"
          ]
        },
        {
          "output_type": "execute_result",
          "data": {
            "text/plain": [
              "str"
            ]
          },
          "metadata": {},
          "execution_count": 9
        }
      ]
    },
    {
      "cell_type": "code",
      "source": [
        "num=int(user_input)#type casting\n",
        "type(num)"
      ],
      "metadata": {
        "colab": {
          "base_uri": "https://localhost:8080/"
        },
        "id": "x0_c09HOYlUk",
        "outputId": "61b669d9-9ab5-4b18-d20b-16bc32b87666"
      },
      "execution_count": null,
      "outputs": [
        {
          "output_type": "execute_result",
          "data": {
            "text/plain": [
              "int"
            ]
          },
          "metadata": {},
          "execution_count": 12
        }
      ]
    },
    {
      "cell_type": "markdown",
      "source": [
        "Q6.How do conditional statements work in python? Illustrate with examples.\n",
        "\n",
        "A6. Conditional statements are primarily used in python programming for decision control. These are primarily executed through 'if', 'else' and 'elif' keywords in python. It returns a boolean value.\n",
        "\n",
        "if : It executes a block of code if a particular condition is met.\n",
        "\n",
        "else : This keyowrd is used along with the if statement and if the condition adjacent to the 'if' keyword is not met then the block of code folling the 'else' segment is executed.\n",
        "\n",
        "elif: If the user needs to make a choice between more than two alternatives, then the if elif else statements are used.\n",
        "\n",
        "Also in case of complex decision making scenario, nested if else statements are also used."
      ],
      "metadata": {
        "id": "6k6VOWSuY0DA"
      }
    },
    {
      "cell_type": "code",
      "source": [
        "# if statement\n",
        "num=10\n",
        "if num>0:\n",
        "  print(\"Number is positive\")"
      ],
      "metadata": {
        "colab": {
          "base_uri": "https://localhost:8080/"
        },
        "id": "1Cs8t2Cfdk48",
        "outputId": "0c80dbd6-b640-4900-b252-e52013dfcc07"
      },
      "execution_count": null,
      "outputs": [
        {
          "output_type": "stream",
          "name": "stdout",
          "text": [
            "Number is positive\n"
          ]
        }
      ]
    },
    {
      "cell_type": "code",
      "source": [
        "#if else statement\n",
        "num=-6\n",
        "if num>0:\n",
        "  print(\"Number is positive\")\n",
        "else:\n",
        "  print(\"Number is negative\")"
      ],
      "metadata": {
        "colab": {
          "base_uri": "https://localhost:8080/"
        },
        "id": "-vC1T6IDef3d",
        "outputId": "ea1603a9-9b4a-4bd1-8ac9-4a1fc4028576"
      },
      "execution_count": null,
      "outputs": [
        {
          "output_type": "stream",
          "name": "stdout",
          "text": [
            "Number is negative\n"
          ]
        }
      ]
    },
    {
      "cell_type": "code",
      "source": [
        "#if elif else statement\n",
        "marks=int(input(\"Enter the marks obtained: \"))\n",
        "if marks>=90:\n",
        "  print(\"Grade A\")\n",
        "elif (marks<90 and marks>=80):\n",
        "  print(\"Grade B\")\n",
        "elif (marks<80 and marks>=70):\n",
        "  print(\"Grade C\")\n",
        "elif (marks<70 and marks>=60):\n",
        "  print(\"Grade D\")\n",
        "elif (marks<60 and marks>=50):\n",
        "  print(\"Grade D\")\n",
        "else:\n",
        "  print(\"Fail\")"
      ],
      "metadata": {
        "colab": {
          "base_uri": "https://localhost:8080/"
        },
        "id": "XAUOMFEVeu_u",
        "outputId": "48eb47de-acad-43dd-f6a8-563b532dbd03"
      },
      "execution_count": null,
      "outputs": [
        {
          "output_type": "stream",
          "name": "stdout",
          "text": [
            "Enter the marks obtained: 75\n",
            "Grade C\n"
          ]
        }
      ]
    },
    {
      "cell_type": "code",
      "source": [
        "# Nested if else statement\n",
        "num=int(input(\"Enter a number: \"))\n",
        "if(num>0):\n",
        "  if(num%2==0):\n",
        "    print(\"Number is even and positive\")\n",
        "  else:\n",
        "    print(\"Number is odd and positive\")\n",
        "else:\n",
        "  print(\"Number is negative\")"
      ],
      "metadata": {
        "colab": {
          "base_uri": "https://localhost:8080/"
        },
        "id": "rsaTSLyqfspp",
        "outputId": "b61ab7b7-76a1-49e6-cdf9-3ffe0d9abcd0"
      },
      "execution_count": null,
      "outputs": [
        {
          "output_type": "stream",
          "name": "stdout",
          "text": [
            "Enter a number: 7\n",
            "Number is odd and positive\n"
          ]
        }
      ]
    },
    {
      "cell_type": "markdown",
      "source": [
        "Q7. Describe the different types of loops in python and their use cases with examples.\n",
        "\n",
        "A7. In python loops are used for iteration, i.e. to repeat a block of code until a specific condition is met. There are basically two types of loops in python. They are 'for' loops and the 'while' loops. 'For' loops are meant to iterate over a sequence of elements like a string value or lists, tuples etc. On the other hand, 'while' loops are used to execute a block of code until a specific consition is satisfied.\n",
        "\n",
        "In certain cases nested for and while loops are also used to execute complicated tasks.\n",
        "\n"
      ],
      "metadata": {
        "id": "OY8CLhvQgqqJ"
      }
    },
    {
      "cell_type": "code",
      "source": [
        "# while loop\n",
        "x=1\n",
        "while(x<=5):\n",
        "  print(x, end=\" \")\n",
        "  x=x+1"
      ],
      "metadata": {
        "colab": {
          "base_uri": "https://localhost:8080/"
        },
        "id": "M0PxueZbiTMH",
        "outputId": "10703cd3-1e28-42ac-c4d7-40a27415d0ef"
      },
      "execution_count": null,
      "outputs": [
        {
          "output_type": "stream",
          "name": "stdout",
          "text": [
            "1 2 3 4 5 "
          ]
        }
      ]
    },
    {
      "cell_type": "code",
      "source": [
        "# for loop\n",
        "lis=[4,7,3,9,55,76]\n",
        "for x  in lis:\n",
        "  print(x, end=\" \")\n"
      ],
      "metadata": {
        "id": "3tdpSjduinMn",
        "colab": {
          "base_uri": "https://localhost:8080/"
        },
        "outputId": "b71f0208-cad1-4ba2-a6d3-a664fbc32643"
      },
      "execution_count": 1,
      "outputs": [
        {
          "output_type": "stream",
          "name": "stdout",
          "text": [
            "4 7 3 9 55 76 "
          ]
        }
      ]
    },
    {
      "cell_type": "code",
      "source": [
        "#nested for loop\n",
        "x,y=0,0\n",
        "for x in range(0,5):\n",
        "  for y in range(0,x):\n",
        "    print(\"*\", end=\"\")\n",
        "  print()"
      ],
      "metadata": {
        "colab": {
          "base_uri": "https://localhost:8080/"
        },
        "id": "ovCHeSnTX8p3",
        "outputId": "2c88589d-dd96-42f0-fa4f-76674b421cb8"
      },
      "execution_count": 3,
      "outputs": [
        {
          "output_type": "stream",
          "name": "stdout",
          "text": [
            "\n",
            "*\n",
            "**\n",
            "***\n",
            "****\n"
          ]
        }
      ]
    }
  ]
}